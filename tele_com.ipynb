{
 "cells": [
  {
   "cell_type": "code",
   "execution_count": 1,
   "metadata": {
    "collapsed": true
   },
   "outputs": [],
   "source": [
    "import pickle\n",
    "import numpy as np\n",
    "import pandas as pd \n",
    "from time import time"
   ]
  },
  {
   "cell_type": "code",
   "execution_count": 2,
   "metadata": {
    "collapsed": true
   },
   "outputs": [],
   "source": [
    "from sklearn.feature_selection import SelectPercentile, f_classif\n",
    "from sklearn.preprocessing import LabelEncoder\n",
    "from sklearn.model_selection import train_test_split\n",
    "import matplotlib.pyplot as plt"
   ]
  },
  {
   "cell_type": "code",
   "execution_count": 3,
   "metadata": {
    "collapsed": true
   },
   "outputs": [],
   "source": [
    "data_set=pd.read_csv('telecom.csv')\n",
    "\n",
    "#scaling function \n",
    "data_set1=data_set.copy()\n",
    "for f in data_set.columns:\n",
    "\tif data_set[f].dtype!='object' and data_set[f].dtype!='bool':\n",
    "\t\tmax=data_set[f].max()\n",
    "\t\tmin=data_set[f].min()\n",
    "\t\tdata_set1[f]=(data_set[f]-min)/(max-min)"
   ]
  },
  {
   "cell_type": "code",
   "execution_count": 4,
   "metadata": {
    "collapsed": true
   },
   "outputs": [],
   "source": [
    "#label encoder for discrete values\n",
    "le = LabelEncoder()\n",
    "for col in data_set1.columns:\n",
    "    if data_set1[col].dtype == 'object':\n",
    "        data_set1[col] = le.fit_transform(data_set1[col])"
   ]
  },
  {
   "cell_type": "code",
   "execution_count": 5,
   "metadata": {},
   "outputs": [
    {
     "name": "stdout",
     "output_type": "stream",
     "text": [
      "Dimension of data_set: (3333, 21)\n",
      "Dimension of X_train: (2666, 20)\n",
      "Dimension of X_test: (667, 20)\n"
     ]
    }
   ],
   "source": [
    "#data_set.head()\n",
    "print (\"Dimension of data_set:\",data_set1.shape)\n",
    "Y=data_set1.churn\n",
    "X=data_set1.drop('churn',axis=1)\n",
    "X_train, X_test, Y_train, Y_test = train_test_split(X, Y,test_size=0.20)\n",
    "#print (\"\\nX_train:\\n\")\n",
    "#print (X_train.head())\n",
    "print (\"Dimension of X_train:\",X_train.shape)\n",
    "#print (\"\\nX_test:\\n\")\n",
    "#print (X_test.head())\n",
    "print (\"Dimension of X_test:\",X_test.shape)\n"
   ]
  },
  {
   "cell_type": "code",
   "execution_count": 7,
   "metadata": {},
   "outputs": [
    {
     "name": "stdout",
     "output_type": "stream",
     "text": [
      "Training Time: 0.00606537 s\n",
      "Accuracy: 0.8740629685157422\n"
     ]
    }
   ],
   "source": [
    "#Naive Bayes\n",
    "from sklearn.naive_bayes import GaussianNB\n",
    "clf=GaussianNB()\n",
    "t0=time()\n",
    "clf.fit(X_train,Y_train)\n",
    "print (\"Training Time:\",round(time()-t0,8),\"s\")\n",
    "pred=clf.predict(X_test)\n",
    "from sklearn.metrics import accuracy_score\n",
    "print (\"Accuracy:\",accuracy_score(pred,Y_test))"
   ]
  },
  {
   "cell_type": "code",
   "execution_count": 8,
   "metadata": {},
   "outputs": [
    {
     "name": "stdout",
     "output_type": "stream",
     "text": [
      "time: 0.03990674 s\n",
      "accuracy: 0.8260869565217391\n"
     ]
    }
   ],
   "source": [
    "#KNN\n",
    "from sklearn.neighbors import KNeighborsClassifier\n",
    "clf=KNeighborsClassifier(n_neighbors=2)\n",
    "t0=time()\n",
    "clf.fit(X_train,Y_train)\n",
    "print (\"time:\", round(time()-t0,8),\"s\")\n",
    "pred=clf.predict(X_test)\n",
    "from sklearn.metrics import accuracy_score\n",
    "print (\"accuracy:\",accuracy_score(pred,Y_test))"
   ]
  },
  {
   "cell_type": "code",
   "execution_count": 9,
   "metadata": {},
   "outputs": [
    {
     "name": "stdout",
     "output_type": "stream",
     "text": [
      "time: 0.097 s\n",
      "accuracy: 0.9550224887556222\n"
     ]
    }
   ],
   "source": [
    "#Random Forest\n",
    "from sklearn.ensemble import RandomForestClassifier\n",
    "clf=RandomForestClassifier(n_estimators=10)\n",
    "t0=time()\n",
    "clf.fit(X_train,Y_train)\n",
    "print (\"time:\", round(time()-t0,3),\"s\")\n",
    "pred=clf.predict(X_test)\n",
    "from sklearn.metrics import accuracy_score\n",
    "print (\"accuracy:\",accuracy_score(pred,Y_test))"
   ]
  },
  {
   "cell_type": "code",
   "execution_count": 10,
   "metadata": {},
   "outputs": [
    {
     "name": "stdout",
     "output_type": "stream",
     "text": [
      "time: 0.29632282 s\n",
      "accuracy: 0.8740629685157422\n"
     ]
    }
   ],
   "source": [
    "#ADABOOST\n",
    "from sklearn.ensemble import AdaBoostClassifier\n",
    "clf=AdaBoostClassifier(n_estimators=50)\n",
    "t0=time()\n",
    "clf.fit(X_train,Y_train)\n",
    "print (\"time:\", round(time()-t0,8),\"s\")\n",
    "pred=clf.predict(X_test)\n",
    "from sklearn.metrics import accuracy_score\n",
    "print (\"accuracy:\",accuracy_score(pred,Y_test))"
   ]
  },
  {
   "cell_type": "code",
   "execution_count": 18,
   "metadata": {},
   "outputs": [
    {
     "name": "stdout",
     "output_type": "stream",
     "text": [
      "Training Time: 0.68734574 s\n",
      "Accuracy: 0.8440779610194903\n"
     ]
    }
   ],
   "source": [
    "#SVM\n",
    "from sklearn.svm import SVC\n",
    "clf=SVC(C=1,kernel='rbf')\n",
    "t0=time()\n",
    "clf.fit(X_train,Y_train)\n",
    "print (\"Training Time:\",round(time()-t0,8),\"s\")\n",
    "pred=clf.predict(X_test)\n",
    "from sklearn.metrics import accuracy_score\n",
    "print (\"Accuracy:\",accuracy_score(pred,Y_test))"
   ]
  },
  {
   "cell_type": "code",
   "execution_count": null,
   "metadata": {},
   "outputs": [],
   "source": []
  },
  {
   "cell_type": "code",
   "execution_count": null,
   "metadata": {
    "collapsed": true
   },
   "outputs": [],
   "source": []
  }
 ],
 "metadata": {
  "kernelspec": {
   "display_name": "Python 3",
   "language": "python",
   "name": "python3"
  },
  "language_info": {
   "codemirror_mode": {
    "name": "ipython",
    "version": 3
   },
   "file_extension": ".py",
   "mimetype": "text/x-python",
   "name": "python",
   "nbconvert_exporter": "python",
   "pygments_lexer": "ipython3",
   "version": "3.6.2"
  }
 },
 "nbformat": 4,
 "nbformat_minor": 2
}
